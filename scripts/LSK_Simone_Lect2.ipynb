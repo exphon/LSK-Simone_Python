{
 "cells": [
  {
   "cell_type": "markdown",
   "id": "31adbdd0",
   "metadata": {},
   "source": [
    "# Lecture 2"
   ]
  },
  {
   "cell_type": "markdown",
   "id": "09a39aaf",
   "metadata": {},
   "source": [
    "## 함수"
   ]
  },
  {
   "cell_type": "code",
   "execution_count": 1,
   "id": "5e57867b",
   "metadata": {},
   "outputs": [],
   "source": [
    "def add(a, b):\n",
    "    total = a + b\n",
    "    return totla"
   ]
  },
  {
   "cell_type": "code",
   "execution_count": 3,
   "id": "5ddebfb2",
   "metadata": {},
   "outputs": [
    {
     "data": {
      "text/plain": [
       "9"
      ]
     },
     "execution_count": 3,
     "metadata": {},
     "output_type": "execute_result"
    }
   ],
   "source": [
    "add(2, 3)"
   ]
  },
  {
   "cell_type": "markdown",
   "id": "a35a5c92",
   "metadata": {},
   "source": [
    "## 람다 함수"
   ]
  },
  {
   "cell_type": "code",
   "execution_count": 6,
   "id": "2a1b4431",
   "metadata": {},
   "outputs": [
    {
     "data": {
      "text/plain": [
       "<function __main__.<lambda>(x, y)>"
      ]
     },
     "execution_count": 6,
     "metadata": {},
     "output_type": "execute_result"
    }
   ],
   "source": [
    "lambda x, y: x + y"
   ]
  },
  {
   "cell_type": "code",
   "execution_count": 8,
   "id": "561fba58",
   "metadata": {},
   "outputs": [
    {
     "data": {
      "text/plain": [
       "30"
      ]
     },
     "execution_count": 8,
     "metadata": {},
     "output_type": "execute_result"
    }
   ],
   "source": [
    "(lambda x, y: x + y)(10, 20)"
   ]
  },
  {
   "cell_type": "code",
   "execution_count": 9,
   "id": "b9fd52de",
   "metadata": {},
   "outputs": [],
   "source": [
    "def add(x, y):\n",
    "    return x + y"
   ]
  },
  {
   "cell_type": "code",
   "execution_count": 10,
   "id": "f758ee8c",
   "metadata": {},
   "outputs": [
    {
     "data": {
      "text/plain": [
       "30"
      ]
     },
     "execution_count": 10,
     "metadata": {},
     "output_type": "execute_result"
    }
   ],
   "source": [
    "add(10, 20)"
   ]
  },
  {
   "cell_type": "code",
   "execution_count": 17,
   "id": "a51fd43c",
   "metadata": {},
   "outputs": [
    {
     "name": "stdout",
     "output_type": "stream",
     "text": [
      "100과 200의 합:  300\n"
     ]
    }
   ],
   "source": [
    "print(\"100과 200의 합: \", (lambda x, y: x + y)(100, 200))"
   ]
  },
  {
   "cell_type": "code",
   "execution_count": 18,
   "id": "d48dac05",
   "metadata": {},
   "outputs": [
    {
     "name": "stdout",
     "output_type": "stream",
     "text": [
      "100과 200의 합:  300\n"
     ]
    }
   ],
   "source": [
    "print('100과 200의 합: ', 100+200)"
   ]
  },
  {
   "cell_type": "code",
   "execution_count": 13,
   "id": "6905921b",
   "metadata": {},
   "outputs": [
    {
     "data": {
      "text/plain": [
       "30"
      ]
     },
     "execution_count": 13,
     "metadata": {},
     "output_type": "execute_result"
    }
   ],
   "source": [
    "add(10, 20)"
   ]
  },
  {
   "cell_type": "markdown",
   "id": "1d9e907d",
   "metadata": {},
   "source": [
    "## class"
   ]
  },
  {
   "cell_type": "code",
   "execution_count": 26,
   "id": "9b9a6b45",
   "metadata": {},
   "outputs": [],
   "source": [
    "class Puppy:\n",
    "    \"\"\"강아지를 이름과 나이로 표현하는 클래스\n",
    "       속성은 강아지 객체를 구성하는 데이터임.\"\"\"\n",
    "    def __init__(self, name = \"Boo\", age=12): # 생성자\n",
    "        \"\"\"강아지 객체를 생성하는 생성자 메소드\"\"\"\n",
    "        self.name = name # self.name과 self.age - 속성\n",
    "        self.age = age\n"
   ]
  },
  {
   "cell_type": "code",
   "execution_count": 27,
   "id": "d0a66d6e",
   "metadata": {},
   "outputs": [
    {
     "name": "stdout",
     "output_type": "stream",
     "text": [
      "Boo is 12 years old.\n",
      "Buddy is 10 years old.\n"
     ]
    }
   ],
   "source": [
    "boo = Puppy()\n",
    "buddy = Puppy(\"Buddy\", 10)\n",
    "print(boo.name, 'is', boo.age, 'years old.')\n",
    "print(buddy.name, 'is', buddy.age, 'years old.')\n"
   ]
  },
  {
   "cell_type": "code",
   "execution_count": 28,
   "id": "9991b1c4",
   "metadata": {},
   "outputs": [],
   "source": [
    "class Puppy:\n",
    "    \"\"\"강아지를 이름과 나이로 표현하는 클래스\n",
    "       속성은 강아지 객체를 구성하는 데이터임.\"\"\"\n",
    "    def __init__(self, name=\"Boo\", age=12): # 생성자\n",
    "        \"\"\"강아지 객체를 생성하는 생성자 메소드\"\"\"\n",
    "        self.name = name           # self.name과 self.age - 속성\n",
    "        self.age = age\n",
    "    def smile(self):               # method\n",
    "        print(self.name, \"is smiling.\")"
   ]
  },
  {
   "cell_type": "code",
   "execution_count": 24,
   "id": "75dd2e4b",
   "metadata": {},
   "outputs": [
    {
     "name": "stdout",
     "output_type": "stream",
     "text": [
      "Number of samples: 337\n",
      "\n"
     ]
    }
   ],
   "source": [
    "boo = Puppy()\n",
    "buddy = Puppy(\"Buddy\", 10)\n",
    "print(boo.name, 'is', boo.age, 'years old.')\n",
    "print(buddy.name, 'is', buddy.age, 'years old.')\n",
    "boo.smile()\n",
    "buddy.smile()"
   ]
  },
  {
   "cell_type": "code",
   "execution_count": 29,
   "id": "cc31474a",
   "metadata": {},
   "outputs": [
    {
     "name": "stdout",
     "output_type": "stream",
     "text": [
      "Writing pet.py\n"
     ]
    }
   ],
   "source": [
    "%%writefile pet.py\n",
    "class Puppy:\n",
    "    \"\"\"강아지를 이름과 나이로 표현하는 클래스\n",
    "       속성은 강아지 객체를 구성하는 데이터임.\"\"\"\n",
    "    def __init__(self, name=\"Boo\", age=12): # 생성자\n",
    "        \"\"\"강아지 객체를 생성하는 생성자 메소드\"\"\"\n",
    "        self.name = name # self.name과 self.age - 속성\n",
    "        self.age = age\n",
    "    def smile(self):  # method\n",
    "        print(self.name, \"is smiling.\")\n",
    "class Cat:\n",
    "    \"\"\"고양이 이름과 나이로 표현하는 클래스\n",
    "       속성은 고양이 객체를 구성하는 데이터임.\"\"\"\n",
    "    def __init__(self, name=\"키티\", age=5): # 생성자\n",
    "        \"\"\"고양이 객체를 생성하는 생성자 메소드\"\"\"\n",
    "        self.name = name # self.name과 self.age - 속성\n",
    "        self.age = age\n",
    "    def wear(self):  # method\n",
    "        print(self.name, \"is wearing a hat.\")"
   ]
  },
  {
   "cell_type": "code",
   "execution_count": 32,
   "id": "85cf812b",
   "metadata": {},
   "outputs": [
    {
     "name": "stdout",
     "output_type": "stream",
     "text": [
      "Boo is 12 years old\n",
      "Boo is smiling.\n",
      "키티 is 5 years old\n",
      "키티 is wearing a hat.\n"
     ]
    }
   ],
   "source": [
    "import pet\n",
    "doggie = pet.Puppy()\n",
    "kitty = pet.Cat()\n",
    "print(doggie.name, \"is\", doggie.age, \"years old\")\n",
    "doggie.smile()\n",
    "print(kitty.name, \"is\", kitty.age, \"years old\")\n",
    "kitty.wear()"
   ]
  },
  {
   "cell_type": "code",
   "execution_count": 31,
   "id": "2136a8f0",
   "metadata": {},
   "outputs": [
    {
     "name": "stdout",
     "output_type": "stream",
     "text": [
      "Doggie is 8 years old\n",
      "Doggie is smiling.\n",
      "고양이 is 5 years old\n",
      "고양이 is wearing a hat.\n"
     ]
    }
   ],
   "source": [
    "import pet\n",
    "doggie = pet.Puppy(\"Doggie\", 8)\n",
    "kitty = pet.Cat(\"Kitty\", 5)\n",
    "print(doggie.name, \"is\", doggie.age, \"years old\")\n",
    "doggie.smile()\n",
    "print(kitty.name, \"is\", kitty.age, \"years old\")\n",
    "kitty.wear()"
   ]
  },
  {
   "cell_type": "code",
   "execution_count": 33,
   "id": "f588ba13",
   "metadata": {},
   "outputs": [
    {
     "name": "stdout",
     "output_type": "stream",
     "text": [
      "Help on module pet:\n",
      "\n",
      "NAME\n",
      "    pet\n",
      "\n",
      "CLASSES\n",
      "    builtins.object\n",
      "        Cat\n",
      "        Puppy\n",
      "    \n",
      "    class Cat(builtins.object)\n",
      "     |  Cat(name='키티', age=5)\n",
      "     |  \n",
      "     |  고양이 이름과 나이로 표현하는 클래스\n",
      "     |  속성은 고양이 객체를 구성하는 데이터임.\n",
      "     |  \n",
      "     |  Methods defined here:\n",
      "     |  \n",
      "     |  __init__(self, name='키티', age=5)\n",
      "     |      고양이 객체를 생성하는 생성자 메소드\n",
      "     |  \n",
      "     |  wear(self)\n",
      "     |  \n",
      "     |  ----------------------------------------------------------------------\n",
      "     |  Data descriptors defined here:\n",
      "     |  \n",
      "     |  __dict__\n",
      "     |      dictionary for instance variables (if defined)\n",
      "     |  \n",
      "     |  __weakref__\n",
      "     |      list of weak references to the object (if defined)\n",
      "    \n",
      "    class Puppy(builtins.object)\n",
      "     |  Puppy(name='Boo', age=12)\n",
      "     |  \n",
      "     |  강아지를 이름과 나이로 표현하는 클래스\n",
      "     |  속성은 강아지 객체를 구성하는 데이터임.\n",
      "     |  \n",
      "     |  Methods defined here:\n",
      "     |  \n",
      "     |  __init__(self, name='Boo', age=12)\n",
      "     |      강아지 객체를 생성하는 생성자 메소드\n",
      "     |  \n",
      "     |  smile(self)\n",
      "     |  \n",
      "     |  ----------------------------------------------------------------------\n",
      "     |  Data descriptors defined here:\n",
      "     |  \n",
      "     |  __dict__\n",
      "     |      dictionary for instance variables (if defined)\n",
      "     |  \n",
      "     |  __weakref__\n",
      "     |      list of weak references to the object (if defined)\n",
      "\n",
      "FILE\n",
      "    /home/tyoon/Documents/NLPTextMining2022/pet.py\n",
      "\n",
      "\n"
     ]
    }
   ],
   "source": [
    "import pet\n",
    "help(pet)"
   ]
  },
  {
   "cell_type": "code",
   "execution_count": 34,
   "id": "2977e7a6",
   "metadata": {},
   "outputs": [
    {
     "name": "stdout",
     "output_type": "stream",
     "text": [
      "Help on class Cat in module pet:\n",
      "\n",
      "class Cat(builtins.object)\n",
      " |  Cat(name='키티', age=5)\n",
      " |  \n",
      " |  고양이 이름과 나이로 표현하는 클래스\n",
      " |  속성은 고양이 객체를 구성하는 데이터임.\n",
      " |  \n",
      " |  Methods defined here:\n",
      " |  \n",
      " |  __init__(self, name='키티', age=5)\n",
      " |      고양이 객체를 생성하는 생성자 메소드\n",
      " |  \n",
      " |  wear(self)\n",
      " |  \n",
      " |  ----------------------------------------------------------------------\n",
      " |  Data descriptors defined here:\n",
      " |  \n",
      " |  __dict__\n",
      " |      dictionary for instance variables (if defined)\n",
      " |  \n",
      " |  __weakref__\n",
      " |      list of weak references to the object (if defined)\n",
      "\n"
     ]
    }
   ],
   "source": [
    "import pet\n",
    "help(pet.Cat)"
   ]
  },
  {
   "cell_type": "code",
   "execution_count": 35,
   "id": "10c12034",
   "metadata": {},
   "outputs": [
    {
     "name": "stdout",
     "output_type": "stream",
     "text": [
      "['Cat', 'Puppy', '__builtins__', '__cached__', '__doc__', '__file__', '__loader__', '__name__', '__package__', '__spec__']\n",
      "========================================\n",
      "['__class__', '__delattr__', '__dict__', '__dir__', '__doc__', '__eq__', '__format__', '__ge__', '__getattribute__', '__gt__', '__hash__', '__init__', '__init_subclass__', '__le__', '__lt__', '__module__', '__ne__', '__new__', '__reduce__', '__reduce_ex__', '__repr__', '__setattr__', '__sizeof__', '__str__', '__subclasshook__', '__weakref__', 'smile']\n",
      "========================================\n",
      "['__class__', '__delattr__', '__dict__', '__dir__', '__doc__', '__eq__', '__format__', '__ge__', '__getattribute__', '__gt__', '__hash__', '__init__', '__init_subclass__', '__le__', '__lt__', '__module__', '__ne__', '__new__', '__reduce__', '__reduce_ex__', '__repr__', '__setattr__', '__sizeof__', '__str__', '__subclasshook__', '__weakref__', 'wear']\n"
     ]
    }
   ],
   "source": [
    "print(dir(pet))\n",
    "print(\"==\"*20)\n",
    "print(dir(pet.Puppy))\n",
    "print(\"==\"*20)\n",
    "print(dir(pet.Cat))"
   ]
  },
  {
   "cell_type": "markdown",
   "id": "1f46ee72",
   "metadata": {},
   "source": [
    "## String"
   ]
  },
  {
   "cell_type": "code",
   "execution_count": 36,
   "id": "3ceba41b",
   "metadata": {},
   "outputs": [],
   "source": [
    "a = 'hello'\n",
    "b = 'world'\n",
    "\n"
   ]
  },
  {
   "cell_type": "code",
   "execution_count": 37,
   "id": "ba95b04d",
   "metadata": {},
   "outputs": [
    {
     "name": "stdout",
     "output_type": "stream",
     "text": [
      "helloworld\n"
     ]
    }
   ],
   "source": [
    "c = a + b\n",
    "print(c)\n"
   ]
  },
  {
   "cell_type": "code",
   "execution_count": 38,
   "id": "9704aa93",
   "metadata": {},
   "outputs": [
    {
     "name": "stdout",
     "output_type": "stream",
     "text": [
      "hello world\n"
     ]
    }
   ],
   "source": [
    "d = a + ' ' + b\n",
    "print(d)\n"
   ]
  },
  {
   "cell_type": "code",
   "execution_count": 39,
   "id": "18248b81",
   "metadata": {},
   "outputs": [
    {
     "ename": "TypeError",
     "evalue": "can only concatenate str (not \"int\") to str",
     "output_type": "error",
     "traceback": [
      "\u001b[0;31m---------------------------------------------------------------------------\u001b[0m",
      "\u001b[0;31mTypeError\u001b[0m                                 Traceback (most recent call last)",
      "\u001b[0;32m/tmp/ipykernel_1050095/2236676679.py\u001b[0m in \u001b[0;36m<module>\u001b[0;34m\u001b[0m\n\u001b[1;32m      1\u001b[0m \u001b[0mscore\u001b[0m \u001b[0;34m=\u001b[0m \u001b[0;36m95\u001b[0m\u001b[0;34m\u001b[0m\u001b[0;34m\u001b[0m\u001b[0m\n\u001b[0;32m----> 2\u001b[0;31m \u001b[0mx\u001b[0m \u001b[0;34m=\u001b[0m \u001b[0;34m'I got '\u001b[0m \u001b[0;34m+\u001b[0m \u001b[0mscore\u001b[0m \u001b[0;34m+\u001b[0m \u001b[0;34m' in the exam.'\u001b[0m \u001b[0;31m# 에러\u001b[0m\u001b[0;34m\u001b[0m\u001b[0;34m\u001b[0m\u001b[0m\n\u001b[0m",
      "\u001b[0;31mTypeError\u001b[0m: can only concatenate str (not \"int\") to str"
     ]
    }
   ],
   "source": [
    "score = 95\n",
    "x = 'I got ' + score + ' in the exam.' # 에러\n"
   ]
  },
  {
   "cell_type": "code",
   "execution_count": 40,
   "id": "4f4abc31",
   "metadata": {},
   "outputs": [
    {
     "name": "stdout",
     "output_type": "stream",
     "text": [
      "I got 95 in the exam.\n"
     ]
    }
   ],
   "source": [
    "x = 'I got ' + str(score) + ' in the exam.' \n",
    "print(x)\n"
   ]
  },
  {
   "cell_type": "code",
   "execution_count": 41,
   "id": "9ac1cb4a",
   "metadata": {},
   "outputs": [
    {
     "data": {
      "text/plain": [
       "11"
      ]
     },
     "execution_count": 41,
     "metadata": {},
     "output_type": "execute_result"
    }
   ],
   "source": [
    "subject = \"programming\"\n",
    "len(subject)\n"
   ]
  },
  {
   "cell_type": "code",
   "execution_count": 42,
   "id": "42383277",
   "metadata": {},
   "outputs": [],
   "source": [
    "subject = \"programming\"\n"
   ]
  },
  {
   "cell_type": "code",
   "execution_count": 43,
   "id": "b9a79195",
   "metadata": {},
   "outputs": [
    {
     "data": {
      "text/plain": [
       "True"
      ]
     },
     "execution_count": 43,
     "metadata": {},
     "output_type": "execute_result"
    }
   ],
   "source": [
    "'r' in subject\n"
   ]
  },
  {
   "cell_type": "code",
   "execution_count": 44,
   "id": "4a5629b9",
   "metadata": {},
   "outputs": [
    {
     "data": {
      "text/plain": [
       "True"
      ]
     },
     "execution_count": 44,
     "metadata": {},
     "output_type": "execute_result"
    }
   ],
   "source": [
    "'gram' in subject\n"
   ]
  },
  {
   "cell_type": "code",
   "execution_count": 45,
   "id": "9904f2c4",
   "metadata": {},
   "outputs": [
    {
     "data": {
      "text/plain": [
       "True"
      ]
     },
     "execution_count": 45,
     "metadata": {},
     "output_type": "execute_result"
    }
   ],
   "source": [
    "'abcd' not in subject\n"
   ]
  },
  {
   "cell_type": "code",
   "execution_count": 47,
   "id": "4affd6d0",
   "metadata": {},
   "outputs": [
    {
     "name": "stdout",
     "output_type": "stream",
     "text": [
      "o\n",
      "h\n"
     ]
    }
   ],
   "source": [
    "greeting = 'hello world'\n",
    "print(greeting[7])\n",
    "print(greeting[0])\n"
   ]
  },
  {
   "cell_type": "code",
   "execution_count": null,
   "id": "eb8b85f0",
   "metadata": {},
   "outputs": [],
   "source": []
  },
  {
   "cell_type": "code",
   "execution_count": 51,
   "id": "b5fb6e9e",
   "metadata": {},
   "outputs": [],
   "source": [
    "lang = \"python programming\"\n"
   ]
  },
  {
   "cell_type": "code",
   "execution_count": 52,
   "id": "21519c2e",
   "metadata": {},
   "outputs": [
    {
     "data": {
      "text/plain": [
       "'hon pro'"
      ]
     },
     "execution_count": 52,
     "metadata": {},
     "output_type": "execute_result"
    }
   ],
   "source": [
    "lang[3:10]      #'hon pro'"
   ]
  },
  {
   "cell_type": "code",
   "execution_count": 53,
   "id": "95ccfee0",
   "metadata": {},
   "outputs": [
    {
     "data": {
      "text/plain": [
       "'pytho'"
      ]
     },
     "execution_count": 53,
     "metadata": {},
     "output_type": "execute_result"
    }
   ],
   "source": [
    "lang[:5]        # 'pytho' (lang[0:5]와 같다)"
   ]
  },
  {
   "cell_type": "code",
   "execution_count": 54,
   "id": "3d01a238",
   "metadata": {},
   "outputs": [
    {
     "name": "stdout",
     "output_type": "stream",
     "text": [
      "['__add__', '__class__', '__contains__', '__delattr__', '__dir__', '__doc__', '__eq__', '__format__', '__ge__', '__getattribute__', '__getitem__', '__getnewargs__', '__gt__', '__hash__', '__init__', '__init_subclass__', '__iter__', '__le__', '__len__', '__lt__', '__mod__', '__mul__', '__ne__', '__new__', '__reduce__', '__reduce_ex__', '__repr__', '__rmod__', '__rmul__', '__setattr__', '__sizeof__', '__str__', '__subclasshook__', 'capitalize', 'casefold', 'center', 'count', 'encode', 'endswith', 'expandtabs', 'find', 'format', 'format_map', 'index', 'isalnum', 'isalpha', 'isascii', 'isdecimal', 'isdigit', 'isidentifier', 'islower', 'isnumeric', 'isprintable', 'isspace', 'istitle', 'isupper', 'join', 'ljust', 'lower', 'lstrip', 'maketrans', 'partition', 'replace', 'rfind', 'rindex', 'rjust', 'rpartition', 'rsplit', 'rstrip', 'split', 'splitlines', 'startswith', 'strip', 'swapcase', 'title', 'translate', 'upper', 'zfill']\n"
     ]
    }
   ],
   "source": [
    "print(dir(str))\n"
   ]
  },
  {
   "cell_type": "code",
   "execution_count": 56,
   "id": "bd3015eb",
   "metadata": {},
   "outputs": [
    {
     "data": {
      "text/plain": [
       "'STEVE JOBS'"
      ]
     },
     "execution_count": 56,
     "metadata": {},
     "output_type": "execute_result"
    }
   ],
   "source": [
    "name = 'steve jobs'\n",
    "name.upper() # 'steve jobs'.upper()\n"
   ]
  },
  {
   "cell_type": "code",
   "execution_count": 57,
   "id": "aa15ee85",
   "metadata": {},
   "outputs": [
    {
     "data": {
      "text/plain": [
       "'lsk-simone linguistics school'"
      ]
     },
     "execution_count": 57,
     "metadata": {},
     "output_type": "execute_result"
    }
   ],
   "source": [
    "school = \"LSK-SIMONE LINGUISTICS SCHOOL\"\n",
    "school.lower()\n"
   ]
  },
  {
   "cell_type": "code",
   "execution_count": 59,
   "id": "6f8b5652",
   "metadata": {},
   "outputs": [
    {
     "data": {
      "text/plain": [
       "4"
      ]
     },
     "execution_count": 59,
     "metadata": {},
     "output_type": "execute_result"
    }
   ],
   "source": [
    "state = 'mississippi'\n",
    "state.count('s')\n"
   ]
  },
  {
   "cell_type": "code",
   "execution_count": 60,
   "id": "54a2475a",
   "metadata": {},
   "outputs": [
    {
     "data": {
      "text/plain": [
       "2"
      ]
     },
     "execution_count": 60,
     "metadata": {},
     "output_type": "execute_result"
    }
   ],
   "source": [
    "state.count('ssi')\n"
   ]
  },
  {
   "cell_type": "code",
   "execution_count": 62,
   "id": "b9ee2d3f",
   "metadata": {},
   "outputs": [
    {
     "data": {
      "text/plain": [
       "2"
      ]
     },
     "execution_count": 62,
     "metadata": {},
     "output_type": "execute_result"
    }
   ],
   "source": [
    "state.count('s', 5) # [5:]으로 잘라서 count한 결과\n"
   ]
  },
  {
   "cell_type": "code",
   "execution_count": 64,
   "id": "a66aba07",
   "metadata": {},
   "outputs": [
    {
     "data": {
      "text/plain": [
       "2"
      ]
     },
     "execution_count": 64,
     "metadata": {},
     "output_type": "execute_result"
    }
   ],
   "source": [
    "state.count('s', 1, 5) # [1:5] 범위\n"
   ]
  },
  {
   "cell_type": "code",
   "execution_count": 65,
   "id": "f5a3cd88",
   "metadata": {},
   "outputs": [
    {
     "name": "stdout",
     "output_type": "stream",
     "text": [
      "Help on method_descriptor:\n",
      "\n",
      "count(...)\n",
      "    S.count(sub[, start[, end]]) -> int\n",
      "    \n",
      "    Return the number of non-overlapping occurrences of substring sub in\n",
      "    string S[start:end].  Optional arguments start and end are\n",
      "    interpreted as in slice notation.\n",
      "\n"
     ]
    }
   ],
   "source": [
    "help(str.count)"
   ]
  },
  {
   "cell_type": "code",
   "execution_count": 67,
   "id": "85aa207e",
   "metadata": {},
   "outputs": [
    {
     "data": {
      "text/plain": [
       "2"
      ]
     },
     "execution_count": 67,
     "metadata": {},
     "output_type": "execute_result"
    }
   ],
   "source": [
    "state.find('s')\n"
   ]
  },
  {
   "cell_type": "code",
   "execution_count": 68,
   "id": "f54ba15a",
   "metadata": {},
   "outputs": [
    {
     "data": {
      "text/plain": [
       "7"
      ]
     },
     "execution_count": 68,
     "metadata": {},
     "output_type": "execute_result"
    }
   ],
   "source": [
    "state.find('i', 5) # [5:] 범위에서 'i'를 찾는다\n"
   ]
  },
  {
   "cell_type": "code",
   "execution_count": 69,
   "id": "3e69caed",
   "metadata": {},
   "outputs": [
    {
     "data": {
      "text/plain": [
       "'I scream you scream we all scream'"
      ]
     },
     "execution_count": 69,
     "metadata": {},
     "output_type": "execute_result"
    }
   ],
   "source": [
    "text = \"Ice cream you scream we all scream\"\n",
    "text.replace(\"Ice cream\", \"I scream\")\n"
   ]
  },
  {
   "cell_type": "code",
   "execution_count": 70,
   "id": "7a83b309",
   "metadata": {},
   "outputs": [
    {
     "data": {
      "text/plain": [
       "'alice-bob-cindy'"
      ]
     },
     "execution_count": 70,
     "metadata": {},
     "output_type": "execute_result"
    }
   ],
   "source": [
    "friends = ['alice', 'bob', 'cindy']\n",
    "dash = '-'\n",
    "dash.join(friends) # '-'.join(friends)\n"
   ]
  },
  {
   "cell_type": "code",
   "execution_count": 71,
   "id": "c99a0909",
   "metadata": {},
   "outputs": [
    {
     "data": {
      "text/plain": [
       "['alice', 'bob', 'cindy', 'david']"
      ]
     },
     "execution_count": 71,
     "metadata": {},
     "output_type": "execute_result"
    }
   ],
   "source": [
    "texts = 'alice bob cindy david'\n",
    "texts.split(' ')\n",
    "\n"
   ]
  },
  {
   "cell_type": "code",
   "execution_count": 72,
   "id": "ea7e048c",
   "metadata": {},
   "outputs": [
    {
     "data": {
      "text/plain": [
       "['2020', '09', '20']"
      ]
     },
     "execution_count": 72,
     "metadata": {},
     "output_type": "execute_result"
    }
   ],
   "source": [
    "date = '2020/09/20'\n",
    "date.split('/')\n"
   ]
  },
  {
   "cell_type": "code",
   "execution_count": 82,
   "id": "8f35ba88",
   "metadata": {},
   "outputs": [
    {
     "data": {
      "text/plain": [
       "['사과', '배', '포도', '오렌지', '감']"
      ]
     },
     "execution_count": 82,
     "metadata": {},
     "output_type": "execute_result"
    }
   ],
   "source": [
    "'사과 배 포도 오렌지 감'.split()\n",
    "#'사과, 배, 포도, 오렌지, 감'.split()\n",
    "#'사과, 배, 포도, 오렌지, 감'.split(',')"
   ]
  },
  {
   "cell_type": "code",
   "execution_count": 74,
   "id": "45b65c42",
   "metadata": {},
   "outputs": [
    {
     "data": {
      "text/plain": [
       "'사과 배 포도 오렌지 감'"
      ]
     },
     "execution_count": 74,
     "metadata": {},
     "output_type": "execute_result"
    }
   ],
   "source": [
    "' '.join(['사과', '배', '포도', '오렌지', '감'])"
   ]
  },
  {
   "cell_type": "code",
   "execution_count": 75,
   "id": "777ab388",
   "metadata": {},
   "outputs": [
    {
     "data": {
      "text/plain": [
       "'사과,배,포도,오렌지,감'"
      ]
     },
     "execution_count": 75,
     "metadata": {},
     "output_type": "execute_result"
    }
   ],
   "source": [
    "','.join(['사과', '배', '포도', '오렌지', '감'])"
   ]
  },
  {
   "cell_type": "code",
   "execution_count": 76,
   "id": "da56473a",
   "metadata": {},
   "outputs": [
    {
     "data": {
      "text/plain": [
       "'사과, 배, 포도, 오렌지, 감'"
      ]
     },
     "execution_count": 76,
     "metadata": {},
     "output_type": "execute_result"
    }
   ],
   "source": [
    "', '.join(['사과', '배', '포도', '오렌지', '감'])\n"
   ]
  },
  {
   "cell_type": "code",
   "execution_count": 78,
   "id": "2368b3f7",
   "metadata": {},
   "outputs": [
    {
     "data": {
      "text/plain": [
       "'Ice cream you scream we all scream'"
      ]
     },
     "execution_count": 78,
     "metadata": {},
     "output_type": "execute_result"
    }
   ],
   "source": [
    "text"
   ]
  },
  {
   "cell_type": "code",
   "execution_count": 79,
   "id": "4390af1a",
   "metadata": {},
   "outputs": [
    {
     "data": {
      "text/plain": [
       "['Ice', 'cream', 'you', 'scream', 'we', 'all', 'scream']"
      ]
     },
     "execution_count": 79,
     "metadata": {},
     "output_type": "execute_result"
    }
   ],
   "source": [
    "text.split()"
   ]
  },
  {
   "cell_type": "code",
   "execution_count": 81,
   "id": "e766d69a",
   "metadata": {},
   "outputs": [
    {
     "data": {
      "text/plain": [
       "'Ice cream you scream we all scream'"
      ]
     },
     "execution_count": 81,
     "metadata": {},
     "output_type": "execute_result"
    }
   ],
   "source": [
    "' '.join(text.split())"
   ]
  },
  {
   "cell_type": "code",
   "execution_count": null,
   "id": "9bd30bf0",
   "metadata": {},
   "outputs": [],
   "source": []
  }
 ],
 "metadata": {
  "kernelspec": {
   "display_name": "Python 3 (ipykernel)",
   "language": "python",
   "name": "python3"
  },
  "language_info": {
   "codemirror_mode": {
    "name": "ipython",
    "version": 3
   },
   "file_extension": ".py",
   "mimetype": "text/x-python",
   "name": "python",
   "nbconvert_exporter": "python",
   "pygments_lexer": "ipython3",
   "version": "3.8.10"
  },
  "toc": {
   "base_numbering": 1,
   "nav_menu": {},
   "number_sections": true,
   "sideBar": true,
   "skip_h1_title": true,
   "title_cell": "Table of Contents",
   "title_sidebar": "Contents",
   "toc_cell": false,
   "toc_position": {
    "height": "calc(100% - 180px)",
    "left": "10px",
    "top": "150px",
    "width": "165px"
   },
   "toc_section_display": true,
   "toc_window_display": false
  }
 },
 "nbformat": 4,
 "nbformat_minor": 5
}
